{
 "cells": [
  {
   "cell_type": "markdown",
   "metadata": {},
   "source": [
    "<img src=\"https://www.driftingruby.com/episodes/openai-api-integration/download_image.png\" width=\"200px\"/>"
   ]
  },
  {
   "cell_type": "markdown",
   "metadata": {},
   "source": [
    "# First connection to GPT model by using OpenAI API"
   ]
  },
  {
   "cell_type": "markdown",
   "metadata": {},
   "source": [
    "## Import packages"
   ]
  },
  {
   "cell_type": "code",
   "execution_count": 1,
   "metadata": {},
   "outputs": [
    {
     "name": "stdout",
     "output_type": "stream",
     "text": [
      "sk-jkvbmGoy450Esp9B8Zo9T3BlbkFJH6tJ4\n"
     ]
    }
   ],
   "source": [
    "from util import local_settings\n",
    "from openai import OpenAI"
   ]
  },
  {
   "cell_type": "markdown",
   "metadata": {},
   "source": [
    "## Check if the Key is retrieved from .env content"
   ]
  },
  {
   "cell_type": "code",
   "execution_count": 2,
   "metadata": {},
   "outputs": [
    {
     "name": "stdout",
     "output_type": "stream",
     "text": [
      "First LLM API example\n",
      "✅ OpenAI Key loaded (sk-jkvbmGoy450Esp9B8Zo9T3BlbkFJH6tJ4...)\n"
     ]
    }
   ],
   "source": [
    "\n",
    "print(\"First LLM API example\")\n",
    "print(f\"✅ OpenAI Key loaded ({local_settings.OPENAI_API_KEY[0:-15]}...)\")"
   ]
  },
  {
   "cell_type": "markdown",
   "metadata": {},
   "source": [
    "> 🔔 <font color=\"#00d4d4\">**Note:** The last 15 characters of the key are omitted for security reasons.</font>"
   ]
  },
  {
   "cell_type": "markdown",
   "metadata": {},
   "source": [
    "## Connect with the API and get a completion"
   ]
  },
  {
   "cell_type": "markdown",
   "metadata": {},
   "source": [
    "To connect with the OpenAI API and generate a completion using the provided code, you can follow these steps:"
   ]
  },
  {
   "cell_type": "code",
   "execution_count": 3,
   "metadata": {},
   "outputs": [],
   "source": [
    "client = OpenAI(api_key=local_settings.OPENAI_API_KEY)\n",
    "\n",
    "def get_completion(prompt, model=\"gpt-3.5-turbo\"):\n",
    "    messages = [{\"role\": \"user\", \"content\": prompt}]\n",
    "\n",
    "    completion = client.chat.completions.create(\n",
    "        model=\"gpt-3.5-turbo\",\n",
    "        messages=messages,\n",
    "        temperature=0,\n",
    "    )\n",
    "\n",
    "    return completion.choices[0].message.content"
   ]
  },
  {
   "cell_type": "code",
   "execution_count": 4,
   "metadata": {},
   "outputs": [
    {
     "name": "stdout",
     "output_type": "stream",
     "text": [
      "I'm sorry, but I couldn't find any information about a person named Ferdinando Langchain. It's possible that this person may not be widely known or recognized.\n"
     ]
    }
   ],
   "source": [
    "person = \"Ferdinando Langchain\"\n",
    "\n",
    "prompt = f\"Who is {person}? How many prizes he won? Only respond if you effectively find information about this person. Otherwise, respond that you are sorry and do not have information about this person.\"\n",
    "\n",
    "\n",
    "response = get_completion(prompt)\n",
    "\n",
    "print(response)"
   ]
  },
  {
   "cell_type": "markdown",
   "metadata": {},
   "source": [
    "## GPT_Helper class\n",
    "\n",
    "Another approach is to access the completion through a helper class created in util.py, which encapsulates both the OpenAI API and the GPT model."
   ]
  },
  {
   "cell_type": "code",
   "execution_count": 5,
   "metadata": {},
   "outputs": [
    {
     "name": "stdout",
     "output_type": "stream",
     "text": [
      "Barack Obama is an American politician who served as the 44th President of the United States from 2009 to 2017. He was born on August 4, 1961, in Honolulu, Hawaii. Before becoming president, Obama served as a U.S. Senator from Illinois from 2005 to 2008. He is a member of the Democratic Party and is known for his efforts to reform healthcare, improve relations with other countries, and address issues such as climate change and income inequality. Obama is the first African American to have served as president of the United States.\n"
     ]
    }
   ],
   "source": [
    "from util import GPT_Helper\n",
    "gpt = GPT_Helper(OPENAI_API_KEY=local_settings.OPENAI_API_KEY)\n",
    "\n",
    "response = gpt.get_completion(prompt)\n",
    "\n",
    "print(response)"
   ]
  }
 ],
 "metadata": {
  "kernelspec": {
   "display_name": "env",
   "language": "python",
   "name": "python3"
  },
  "language_info": {
   "codemirror_mode": {
    "name": "ipython",
    "version": 3
   },
   "file_extension": ".py",
   "mimetype": "text/x-python",
   "name": "python",
   "nbconvert_exporter": "python",
   "pygments_lexer": "ipython3",
   "version": "3.11.5"
  }
 },
 "nbformat": 4,
 "nbformat_minor": 2
}
